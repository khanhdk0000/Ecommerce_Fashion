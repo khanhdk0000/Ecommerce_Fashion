{
 "cells": [
  {
   "cell_type": "markdown",
   "id": "0bae9ce8",
   "metadata": {},
   "source": [
    "0. Import the libraries"
   ]
  },
  {
   "cell_type": "code",
   "execution_count": 2,
   "id": "496635e4",
   "metadata": {},
   "outputs": [],
   "source": [
    "import pandas as pd\n",
    "import numpy as np\n",
    "import re"
   ]
  },
  {
   "cell_type": "markdown",
   "id": "3e708b2c",
   "metadata": {},
   "source": [
    "1. Read the preprocessed-dataset"
   ]
  },
  {
   "cell_type": "code",
   "execution_count": 3,
   "id": "ca67b421",
   "metadata": {
    "scrolled": false
   },
   "outputs": [
    {
     "data": {
      "text/html": [
       "<div>\n",
       "<style scoped>\n",
       "    .dataframe tbody tr th:only-of-type {\n",
       "        vertical-align: middle;\n",
       "    }\n",
       "\n",
       "    .dataframe tbody tr th {\n",
       "        vertical-align: top;\n",
       "    }\n",
       "\n",
       "    .dataframe thead th {\n",
       "        text-align: right;\n",
       "    }\n",
       "</style>\n",
       "<table border=\"1\" class=\"dataframe\">\n",
       "  <thead>\n",
       "    <tr style=\"text-align: right;\">\n",
       "      <th></th>\n",
       "      <th>id</th>\n",
       "      <th>gender</th>\n",
       "      <th>masterCategory</th>\n",
       "      <th>subCategory</th>\n",
       "      <th>acticleType</th>\n",
       "      <th>baseColour</th>\n",
       "      <th>season</th>\n",
       "      <th>year</th>\n",
       "      <th>usage</th>\n",
       "      <th>productDisplayName</th>\n",
       "      <th>link</th>\n",
       "    </tr>\n",
       "  </thead>\n",
       "  <tbody>\n",
       "    <tr>\n",
       "      <th>0</th>\n",
       "      <td>15970</td>\n",
       "      <td>Men</td>\n",
       "      <td>Apparel</td>\n",
       "      <td>Topwear</td>\n",
       "      <td>Shirts</td>\n",
       "      <td>Navy Blue</td>\n",
       "      <td>Fall</td>\n",
       "      <td>2011.0</td>\n",
       "      <td>Casual</td>\n",
       "      <td>Turtle Check Men Navy Blue Shirt</td>\n",
       "      <td>http://assets.myntassets.com/v1/images/style/p...</td>\n",
       "    </tr>\n",
       "    <tr>\n",
       "      <th>1</th>\n",
       "      <td>39386</td>\n",
       "      <td>Men</td>\n",
       "      <td>Apparel</td>\n",
       "      <td>Bottomwear</td>\n",
       "      <td>Jeans</td>\n",
       "      <td>Blue</td>\n",
       "      <td>Summer</td>\n",
       "      <td>2012.0</td>\n",
       "      <td>Casual</td>\n",
       "      <td>Peter England Men Party Blue Jeans</td>\n",
       "      <td>http://assets.myntassets.com/v1/images/style/p...</td>\n",
       "    </tr>\n",
       "    <tr>\n",
       "      <th>2</th>\n",
       "      <td>59263</td>\n",
       "      <td>Women</td>\n",
       "      <td>Accessories</td>\n",
       "      <td>Watches</td>\n",
       "      <td>Watches</td>\n",
       "      <td>Silver</td>\n",
       "      <td>Winter</td>\n",
       "      <td>2016.0</td>\n",
       "      <td>Casual</td>\n",
       "      <td>Titan Women Silver Watch</td>\n",
       "      <td>http://assets.myntassets.com/v1/images/style/p...</td>\n",
       "    </tr>\n",
       "    <tr>\n",
       "      <th>3</th>\n",
       "      <td>21379</td>\n",
       "      <td>Men</td>\n",
       "      <td>Apparel</td>\n",
       "      <td>Bottomwear</td>\n",
       "      <td>Track Pants</td>\n",
       "      <td>Black</td>\n",
       "      <td>Fall</td>\n",
       "      <td>2011.0</td>\n",
       "      <td>Casual</td>\n",
       "      <td>Manchester United Men Solid Black Track Pants</td>\n",
       "      <td>http://assets.myntassets.com/v1/images/style/p...</td>\n",
       "    </tr>\n",
       "    <tr>\n",
       "      <th>4</th>\n",
       "      <td>53759</td>\n",
       "      <td>Men</td>\n",
       "      <td>Apparel</td>\n",
       "      <td>Topwear</td>\n",
       "      <td>Tshirts</td>\n",
       "      <td>Grey</td>\n",
       "      <td>Summer</td>\n",
       "      <td>2012.0</td>\n",
       "      <td>Casual</td>\n",
       "      <td>Puma Men Grey T-shirt</td>\n",
       "      <td>http://assets.myntassets.com/v1/images/style/p...</td>\n",
       "    </tr>\n",
       "  </tbody>\n",
       "</table>\n",
       "</div>"
      ],
      "text/plain": [
       "      id gender masterCategory subCategory  acticleType baseColour  season  \\\n",
       "0  15970    Men        Apparel     Topwear       Shirts  Navy Blue    Fall   \n",
       "1  39386    Men        Apparel  Bottomwear        Jeans       Blue  Summer   \n",
       "2  59263  Women    Accessories     Watches      Watches     Silver  Winter   \n",
       "3  21379    Men        Apparel  Bottomwear  Track Pants      Black    Fall   \n",
       "4  53759    Men        Apparel     Topwear      Tshirts       Grey  Summer   \n",
       "\n",
       "     year   usage                             productDisplayName  \\\n",
       "0  2011.0  Casual               Turtle Check Men Navy Blue Shirt   \n",
       "1  2012.0  Casual             Peter England Men Party Blue Jeans   \n",
       "2  2016.0  Casual                       Titan Women Silver Watch   \n",
       "3  2011.0  Casual  Manchester United Men Solid Black Track Pants   \n",
       "4  2012.0  Casual                          Puma Men Grey T-shirt   \n",
       "\n",
       "                                                link  \n",
       "0  http://assets.myntassets.com/v1/images/style/p...  \n",
       "1  http://assets.myntassets.com/v1/images/style/p...  \n",
       "2  http://assets.myntassets.com/v1/images/style/p...  \n",
       "3  http://assets.myntassets.com/v1/images/style/p...  \n",
       "4  http://assets.myntassets.com/v1/images/style/p...  "
      ]
     },
     "execution_count": 3,
     "metadata": {},
     "output_type": "execute_result"
    }
   ],
   "source": [
    "product_link = './preprocessed-data/product.pkl'\n",
    "\n",
    "df = pd.read_pickle(product_link)\n",
    "\n",
    "# drop if any column is nan\n",
    "for field in df.columns:\n",
    "    df = df[df[field].notna()]\n",
    "    \n",
    "# drop duplicate id\n",
    "df.drop_duplicates(subset=['id'])\n",
    "\n",
    "df.head()"
   ]
  },
  {
   "cell_type": "code",
   "execution_count": 4,
   "id": "56faada7",
   "metadata": {},
   "outputs": [
    {
     "data": {
      "text/plain": [
       "\"hello''s\""
      ]
     },
     "execution_count": 4,
     "metadata": {},
     "output_type": "execute_result"
    }
   ],
   "source": [
    "def changeQuoteSring(s):\n",
    "    if \"'\" in s:\n",
    "        return s.replace(\"'\", \"''\")\n",
    "    return s\n",
    "\n",
    "changeQuoteSring(\"hello's\")"
   ]
  },
  {
   "cell_type": "markdown",
   "id": "66c2818d",
   "metadata": {},
   "source": [
    "2. Manage the insert query"
   ]
  },
  {
   "cell_type": "markdown",
   "id": "9e2db00f",
   "metadata": {},
   "source": [
    "* Insert into category"
   ]
  },
  {
   "cell_type": "code",
   "execution_count": 7,
   "id": "76e6b3b7",
   "metadata": {},
   "outputs": [
    {
     "data": {
      "text/plain": [
       "array(['Apparel', 'Accessories', 'Footwear', 'Personal Care',\n",
       "       'Free Items', 'Sporting Goods', 'Home'], dtype=object)"
      ]
     },
     "execution_count": 7,
     "metadata": {},
     "output_type": "execute_result"
    }
   ],
   "source": [
    "main_categories = df['masterCategory'].unique()\n",
    "main_categories"
   ]
  },
  {
   "cell_type": "markdown",
   "id": "5de3e67c",
   "metadata": {},
   "source": [
    "* Insert into subcategory"
   ]
  },
  {
   "cell_type": "code",
   "execution_count": 8,
   "id": "c1ea407d",
   "metadata": {},
   "outputs": [
    {
     "data": {
      "text/plain": [
       "'Accessories'"
      ]
     },
     "execution_count": 8,
     "metadata": {},
     "output_type": "execute_result"
    }
   ],
   "source": [
    "# Create grouping between master and sub category\n",
    "category_sub = df.groupby(['masterCategory','subCategory']).size().reset_index()\n",
    "category_sub.loc[category_sub['subCategory'] == 'Bags']['masterCategory'].to_list()[0]"
   ]
  },
  {
   "cell_type": "code",
   "execution_count": 9,
   "id": "d4855977",
   "metadata": {},
   "outputs": [
    {
     "data": {
      "text/plain": [
       "array(['Topwear', 'Bottomwear', 'Watches', 'Socks', 'Shoes', 'Belts',\n",
       "       'Flip Flops', 'Bags', 'Innerwear', 'Sandal', 'Shoe Accessories',\n",
       "       'Fragrance', 'Jewellery', 'Lips', 'Saree', 'Eyewear', 'Scarves',\n",
       "       'Dress', 'Loungewear and Nightwear', 'Wallets', 'Apparel Set',\n",
       "       'Headwear', 'Mufflers', 'Skin Care', 'Makeup', 'Free Gifts',\n",
       "       'Ties', 'Accessories', 'Nails', 'Beauty Accessories',\n",
       "       'Water Bottle', 'Skin', 'Eyes', 'Bath and Body', 'Gloves',\n",
       "       'Sports Accessories', 'Cufflinks', 'Sports Equipment', 'Stoles',\n",
       "       'Hair', 'Perfumes', 'Home Furnishing', 'Umbrellas', 'Wristbands',\n",
       "       'Vouchers'], dtype=object)"
      ]
     },
     "execution_count": 9,
     "metadata": {},
     "output_type": "execute_result"
    }
   ],
   "source": [
    "sub_categories = df['subCategory'].unique()\n",
    "sub_categories"
   ]
  },
  {
   "cell_type": "markdown",
   "id": "7c8b3992",
   "metadata": {},
   "source": [
    "* Insert into product"
   ]
  },
  {
   "cell_type": "code",
   "execution_count": 11,
   "id": "dc3c49c4",
   "metadata": {},
   "outputs": [
    {
     "data": {
      "text/html": [
       "<div>\n",
       "<style scoped>\n",
       "    .dataframe tbody tr th:only-of-type {\n",
       "        vertical-align: middle;\n",
       "    }\n",
       "\n",
       "    .dataframe tbody tr th {\n",
       "        vertical-align: top;\n",
       "    }\n",
       "\n",
       "    .dataframe thead th {\n",
       "        text-align: right;\n",
       "    }\n",
       "</style>\n",
       "<table border=\"1\" class=\"dataframe\">\n",
       "  <thead>\n",
       "    <tr style=\"text-align: right;\">\n",
       "      <th></th>\n",
       "      <th>id</th>\n",
       "      <th>gender</th>\n",
       "      <th>masterCategory</th>\n",
       "      <th>subCategory</th>\n",
       "      <th>acticleType</th>\n",
       "      <th>baseColour</th>\n",
       "      <th>season</th>\n",
       "      <th>year</th>\n",
       "      <th>usage</th>\n",
       "      <th>productDisplayName</th>\n",
       "      <th>link</th>\n",
       "    </tr>\n",
       "  </thead>\n",
       "  <tbody>\n",
       "    <tr>\n",
       "      <th>0</th>\n",
       "      <td>15970</td>\n",
       "      <td>Men</td>\n",
       "      <td>Apparel</td>\n",
       "      <td>Topwear</td>\n",
       "      <td>Shirts</td>\n",
       "      <td>Navy Blue</td>\n",
       "      <td>Fall</td>\n",
       "      <td>2011.0</td>\n",
       "      <td>Casual</td>\n",
       "      <td>Turtle Check Men Navy Blue Shirt</td>\n",
       "      <td>http://assets.myntassets.com/v1/images/style/p...</td>\n",
       "    </tr>\n",
       "  </tbody>\n",
       "</table>\n",
       "</div>"
      ],
      "text/plain": [
       "      id gender masterCategory subCategory acticleType baseColour season  \\\n",
       "0  15970    Men        Apparel     Topwear      Shirts  Navy Blue   Fall   \n",
       "\n",
       "     year   usage                productDisplayName  \\\n",
       "0  2011.0  Casual  Turtle Check Men Navy Blue Shirt   \n",
       "\n",
       "                                                link  \n",
       "0  http://assets.myntassets.com/v1/images/style/p...  "
      ]
     },
     "execution_count": 11,
     "metadata": {},
     "output_type": "execute_result"
    }
   ],
   "source": [
    "df.head(1)"
   ]
  },
  {
   "cell_type": "code",
   "execution_count": 15,
   "id": "6c5a22e0",
   "metadata": {},
   "outputs": [],
   "source": [
    "product_sql = './queries-code/cassandra/product.cql'\n",
    "\n",
    "with open(product_sql, 'a') as f:\n",
    "    for index, product in df.iterrows():\n",
    "        f.write(f\"INSERT INTO ecommerce.product (product_id, product_name, product_gender, product_quantity, product_color, product_type, product_price, image_link, subcategory, category) VALUES ({product.id}, '{changeQuoteSring(product.productDisplayName)}', '{product.gender}', 0, '{product.baseColour}', '{product.acticleType}', 0.0, '{product.link}', '{product.subCategory}', '{product.masterCategory}');\\n\")\n"
   ]
  },
  {
   "cell_type": "markdown",
   "id": "e6c0d9f2",
   "metadata": {},
   "source": [
    "- Insert into product_by_category"
   ]
  },
  {
   "cell_type": "code",
   "execution_count": 16,
   "id": "eab141e1",
   "metadata": {},
   "outputs": [],
   "source": [
    "product_by_category_sql = './queries-code/cassandra/product_by_category.cql'\n",
    "\n",
    "with open(product_by_category_sql, 'a') as f:\n",
    "    for index, product in df.iterrows():\n",
    "        f.write(f\"INSERT INTO ecommerce.product_by_category (product_id, product_name, product_gender, product_quantity, product_color, product_type, product_price, image_link, category) VALUES ({product.id}, '{changeQuoteSring(product.productDisplayName)}', '{product.gender}', 0, '{product.baseColour}', '{product.acticleType}', 0.0, '{product.link}', '{product.masterCategory}');\\n\")"
   ]
  },
  {
   "cell_type": "markdown",
   "id": "030bab26",
   "metadata": {},
   "source": [
    "- Insert into product_by_subcategory"
   ]
  },
  {
   "cell_type": "code",
   "execution_count": 18,
   "id": "3aea5f58",
   "metadata": {},
   "outputs": [],
   "source": [
    "product_by_subcategory_sql = './queries-code/cassandra/product_by_subcategory.cql'\n",
    "\n",
    "with open(product_by_subcategory_sql, 'a') as f:\n",
    "    for index, product in df.iterrows():\n",
    "        f.write(f\"INSERT INTO ecommerce.product_by_subcategory (product_id, product_name, product_gender, product_quantity, product_color, product_type, product_price, image_link, subcategory) VALUES ({product.id}, '{changeQuoteSring(product.productDisplayName)}', '{product.gender}', 0, '{product.baseColour}', '{product.acticleType}', 0.0, '{product.link}', '{product.subCategory}');\\n\")"
   ]
  },
  {
   "cell_type": "markdown",
   "id": "b399ae23",
   "metadata": {},
   "source": [
    "- Insert into product_by_gender"
   ]
  },
  {
   "cell_type": "code",
   "execution_count": 19,
   "id": "49f2c122",
   "metadata": {},
   "outputs": [],
   "source": [
    "product_by_gender_sql = './queries-code/cassandra/product_by_gender.cql'\n",
    "\n",
    "with open(product_by_gender_sql, 'a') as f:\n",
    "    for index, product in df.iterrows():\n",
    "        f.write(f\"INSERT INTO ecommerce.product_by_gender (product_id, product_name, product_gender, product_quantity, product_color, product_type, product_price, image_link) VALUES ({product.id}, '{changeQuoteSring(product.productDisplayName)}', '{product.gender}', 0, '{product.baseColour}', '{product.acticleType}', 0.0, '{product.link}');\\n\")"
   ]
  }
 ],
 "metadata": {
  "kernelspec": {
   "display_name": "machine-learning",
   "language": "python",
   "name": "ml"
  },
  "language_info": {
   "codemirror_mode": {
    "name": "ipython",
    "version": 3
   },
   "file_extension": ".py",
   "mimetype": "text/x-python",
   "name": "python",
   "nbconvert_exporter": "python",
   "pygments_lexer": "ipython3",
   "version": "3.9.6"
  }
 },
 "nbformat": 4,
 "nbformat_minor": 5
}
